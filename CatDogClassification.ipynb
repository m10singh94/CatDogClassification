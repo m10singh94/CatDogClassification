{
  "nbformat": 4,
  "nbformat_minor": 0,
  "metadata": {
    "colab": {
      "provenance": [],
      "authorship_tag": "ABX9TyNRoA7mT9lK41mVPNX8cwCg",
      "include_colab_link": true
    },
    "kernelspec": {
      "name": "python3",
      "display_name": "Python 3"
    },
    "language_info": {
      "name": "python"
    }
  },
  "cells": [
    {
      "cell_type": "markdown",
      "metadata": {
        "id": "view-in-github",
        "colab_type": "text"
      },
      "source": [
        "<a href=\"https://colab.research.google.com/github/m10singh94/CatDogClassification/blob/main/CatDogClassification.ipynb\" target=\"_parent\"><img src=\"https://colab.research.google.com/assets/colab-badge.svg\" alt=\"Open In Colab\"/></a>"
      ]
    },
    {
      "cell_type": "markdown",
      "source": [
        "# Cat and Dog Classification\n",
        "\n",
        "We will create a simple `NN model` and a `ViT model` to detect the class of image (either a dog or a cat), and try to demonstrate a demo of the model in Gradio in HuggingFace Space."
      ],
      "metadata": {
        "id": "qY89V6RG_Ihq"
      }
    },
    {
      "cell_type": "markdown",
      "source": [
        "## Starting with Importing all the files\n",
        "* torch\n",
        "* torchvision\n",
        "* matplotlib\n",
        "* torchinfo\n"
      ],
      "metadata": {
        "id": "48-T_fQm_yHm"
      }
    },
    {
      "cell_type": "code",
      "execution_count": null,
      "metadata": {
        "id": "TiZ3Fpc19ke5"
      },
      "outputs": [],
      "source": [
        "# importing torch and torchvision\n",
        "try:\n",
        "    import torch\n",
        "    import torchvision\n",
        "    assert int(torch.__version__.split(\".\")[1]) >= 12, \"torch version should be 1.12+\"\n",
        "    assert int(torchvision.__version__.split(\".\")[1]) >= 13, \"torchvision version should be 0.13+\"\n",
        "    print(f\"torch version: {torch.__version__}\")\n",
        "    print(f\"torchvision version: {torchvision.__version__}\")\n",
        "except:\n",
        "    print(f\"[INFO] torch/torchvision versions not as required, installing nightly versions.\")\n",
        "    !pip3 install -U torch torchvision torchaudio --extra-index-url https://download.pytorch.org/whl/cu113\n",
        "    import torch\n",
        "    import torchvision\n",
        "    print(f\"torch version: {torch.__version__}\")\n",
        "    print(f\"torchvision version: {torchvision.__version__}\")\n",
        "\n",
        "import matplotlib.pyplot as plt\n",
        "from torchinfo import summary\n",
        "from torch import nn\n",
        "from torchvision import datasets, transforms\n",
        "\n",
        "from pathlib import Path\n",
        "import os\n",
        "import zipfile\n",
        "import requests"
      ]
    }
  ]
}